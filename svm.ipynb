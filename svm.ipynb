{
 "cells": [
  {
   "cell_type": "code",
   "execution_count": null,
   "id": "939bb8fc-e967-4a25-b396-878dae109c7c",
   "metadata": {},
   "outputs": [],
   "source": [
    "# 能够完整执行\n"
   ]
  },
  {
   "cell_type": "code",
   "execution_count": 1,
   "id": "e348d20e-3b1e-4147-8da1-2427c7209923",
   "metadata": {},
   "outputs": [
    {
     "name": "stdout",
     "output_type": "stream",
     "text": [
      "Train phase:\n",
      "Predict phase:\n",
      "score:  0.5309042100438682\n"
     ]
    }
   ],
   "source": [
    "!python3 svm.py"
   ]
  },
  {
   "cell_type": "code",
   "execution_count": 2,
   "id": "933ef3b6-76bb-4eec-a8fd-193338867825",
   "metadata": {},
   "outputs": [],
   "source": [
    "from util.dataset import load_mat, train_test_split\n",
    "import sklearn\n",
    "from sklearn import svm\n",
    "import pickle"
   ]
  },
  {
   "cell_type": "code",
   "execution_count": 3,
   "id": "e550fad3-09de-4590-932c-cac44a12f2f3",
   "metadata": {},
   "outputs": [],
   "source": [
    "jump = 1\n",
    "temp_dir = \"/home/seugaoms/Documents/seed/SEEDdataset/ExtractedFeatures/de_LDS\""
   ]
  },
  {
   "cell_type": "code",
   "execution_count": null,
   "id": "241e8287-3d61-49e1-b632-e76d11c241d5",
   "metadata": {},
   "outputs": [
    {
     "name": "stdout",
     "output_type": "stream",
     "text": [
      "Train phase:\n",
      "Predict phase:\n"
     ]
    }
   ],
   "source": [
    "feature, label, cumulative = load_mat(temp_dir)\n",
    "train_arr, train_label, test_arr, test_label = train_test_split(feature, label, cumulative)\n",
    "train_arr = train_arr[::jump]\n",
    "train_label = train_label[::jump]\n",
    "test_arr = test_arr[::jump]\n",
    "test_label = test_label[::jump]\n",
    "print(\"Train phase:\")\n",
    "classifier = svm.SVC()\n",
    "classifier.fit(train_arr, train_label.ravel())\n",
    "# fd_classifier = open(\"classifier_svm\", \"rb\")\n",
    "# classifier = pickle.load(fd_classifier)\n",
    "fd_classifier = open(\"classifier_svm\", \"wb\")\n",
    "pickle.dump(classifier, fd_classifier)\n",
    "print(\"Predict phase:\")\n",
    "predict_label = classifier.predict(test_arr)\n",
    "score = sklearn.metrics.accuracy_score(test_label.ravel(), predict_label)\n",
    "print(\"score: \", score)"
   ]
  }
 ],
 "metadata": {
  "kernelspec": {
   "display_name": "Python 3",
   "language": "python",
   "name": "python3"
  },
  "language_info": {
   "codemirror_mode": {
    "name": "ipython",
    "version": 3
   },
   "file_extension": ".py",
   "mimetype": "text/x-python",
   "name": "python",
   "nbconvert_exporter": "python",
   "pygments_lexer": "ipython3",
   "version": "3.6.13"
  }
 },
 "nbformat": 4,
 "nbformat_minor": 5
}
