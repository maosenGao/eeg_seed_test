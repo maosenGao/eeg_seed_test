{
 "cells": [
  {
   "cell_type": "code",
   "execution_count": null,
   "id": "06301f4e-39e1-4cd8-9ee6-4d2479f5d13b",
   "metadata": {},
   "outputs": [
    {
     "name": "stdout",
     "output_type": "stream",
     "text": [
      "[sudo] password for seugaoms: "
     ]
    }
   ],
   "source": [
    "# !sudo apt_get purge nvidia* -seugaoms\n",
    "# !sudo add-apt-repository ppa:graphics-driver/ppa\n",
    "# !sudo apt-get update\n",
    "# !sudo apt-get install nvidia-340 nvidia-settings\n"
   ]
  }
 ],
 "metadata": {
  "kernelspec": {
   "display_name": "Python 3",
   "language": "python",
   "name": "python3"
  },
  "language_info": {
   "codemirror_mode": {
    "name": "ipython",
    "version": 3
   },
   "file_extension": ".py",
   "mimetype": "text/x-python",
   "name": "python",
   "nbconvert_exporter": "python",
   "pygments_lexer": "ipython3",
   "version": "3.6.13"
  }
 },
 "nbformat": 4,
 "nbformat_minor": 5
}
