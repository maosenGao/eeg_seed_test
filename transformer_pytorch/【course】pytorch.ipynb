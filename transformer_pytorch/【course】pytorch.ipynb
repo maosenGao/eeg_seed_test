{
 "cells": [
  {
   "cell_type": "code",
   "execution_count": 1,
   "id": "238080a0-3117-40a6-9edd-6e906f7f181f",
   "metadata": {},
   "outputs": [],
   "source": [
    "import os \n",
    "import torch\n",
    "from torch import nn\n",
    "from torch.utils.data import DataLoader\n",
    "from torchvision import datasets, transforms"
   ]
  },
  {
   "cell_type": "code",
   "execution_count": 2,
   "id": "0a68614e-fcfe-491f-bdd3-f44be413a849",
   "metadata": {},
   "outputs": [],
   "source": [
    "# 加载训练设备\u000b",
    "\n",
    "\u000b",
    "\n",
    "# 我们希望能够在硬件加速器，比如 GPU 上训练我们的模型。可以通过 torch.cuda 来检测 GPU 是否可用。\n",
    "\u000b",
    "\n",
    "# \t• \n",
    "# \t• "
   ]
  },
  {
   "cell_type": "code",
   "execution_count": 2,
   "id": "a53fbf30-0a08-40c3-af92-355b7b5e878a",
   "metadata": {},
   "outputs": [
    {
     "name": "stderr",
     "output_type": "stream",
     "text": [
      "/home/seugaoms/anaconda3/envs/python36/lib/python3.6/site-packages/torch/cuda/__init__.py:80: UserWarning: CUDA initialization: The NVIDIA driver on your system is too old (found version 9010). Please update your GPU driver by downloading and installing a new version from the URL: http://www.nvidia.com/Download/index.aspx Alternatively, go to: https://pytorch.org to install a PyTorch version that has been compiled with your version of the CUDA driver. (Triggered internally at  ../c10/cuda/CUDAFunctions.cpp:112.)\n",
      "  return torch._C._cuda_getDeviceCount() > 0\n"
     ]
    }
   ],
   "source": [
    "device = 'cuda' if torch.cuda.is_available() else 'cpu' \n",
    "\n",
    "\n",
    "#检测gpu是否可用，不可用使用cpuprint('Using {} device'.format(device)) \n",
    "#输出使用设备类型"
   ]
  },
  {
   "cell_type": "code",
   "execution_count": 3,
   "id": "dae6aeca-552a-4ed6-8c09-4606841412cc",
   "metadata": {},
   "outputs": [],
   "source": [
    "import torch"
   ]
  },
  {
   "cell_type": "code",
   "execution_count": 4,
   "id": "e7c913a7-ffa5-4dd5-9a54-564162e7bf0f",
   "metadata": {},
   "outputs": [
    {
     "name": "stdout",
     "output_type": "stream",
     "text": [
      "tensor([[9.4150e+30, 4.5779e-41, 1.8077e-43],\n",
      "        [0.0000e+00, 7.3345e+15, 3.0882e-41],\n",
      "        [2.8891e+30, 4.5779e-41,        nan],\n",
      "        [4.5779e-41, 1.8314e+25, 6.9768e+22],\n",
      "        [1.4312e+13, 7.2156e+22, 7.0975e+22]])\n"
     ]
    }
   ],
   "source": [
    "# 创建未初始化的Tensor\n",
    "\n",
    "x = torch.empty(5,3)\n",
    "print(x)"
   ]
  },
  {
   "cell_type": "code",
   "execution_count": 6,
   "id": "8269c632-5496-4f56-b442-baf6d9c7190f",
   "metadata": {},
   "outputs": [
    {
     "name": "stdout",
     "output_type": "stream",
     "text": [
      "tensor([[0.1160, 0.2181, 0.1234],\n",
      "        [0.3537, 0.1321, 0.4220],\n",
      "        [0.1240, 0.6058, 0.6392],\n",
      "        [0.6046, 0.5417, 0.0153],\n",
      "        [0.0099, 0.5124, 0.5715]])\n"
     ]
    }
   ],
   "source": [
    "# 创建随机初始化的Tensor\n",
    "\n",
    "x = torch.rand(5,3)\n",
    "print(x)"
   ]
  },
  {
   "cell_type": "code",
   "execution_count": 7,
   "id": "6f451ef4-db0c-46bc-8fdd-0a54678d056a",
   "metadata": {},
   "outputs": [
    {
     "name": "stdout",
     "output_type": "stream",
     "text": [
      "tensor([[0, 0, 0],\n",
      "        [0, 0, 0],\n",
      "        [0, 0, 0],\n",
      "        [0, 0, 0],\n",
      "        [0, 0, 0]])\n"
     ]
    }
   ],
   "source": [
    "# 创建全为0的Tensor\n",
    "\n",
    "x = torch.zeros(5,3,dtype=torch.long)\n",
    "\n",
    "print(x)"
   ]
  },
  {
   "cell_type": "code",
   "execution_count": 8,
   "id": "9fce2224-8fa8-4e4b-8b0a-ac92ef4a7ceb",
   "metadata": {},
   "outputs": [
    {
     "name": "stdout",
     "output_type": "stream",
     "text": [
      "tensor([[0, 0, 0],\n",
      "        [0, 0, 0],\n",
      "        [0, 0, 0],\n",
      "        [0, 0, 0],\n",
      "        [0, 0, 0]])\n"
     ]
    }
   ],
   "source": [
    "# 根据数据创建\n",
    "\n",
    "Tensorx = torch.tensor([5.5,3])\n",
    "\n",
    "print(x)\n"
   ]
  },
  {
   "cell_type": "code",
   "execution_count": 9,
   "id": "b7dabd91-a443-4684-b1da-78a1b9cee123",
   "metadata": {},
   "outputs": [
    {
     "name": "stdout",
     "output_type": "stream",
     "text": [
      "tensor([[1., 1., 1.],\n",
      "        [1., 1., 1.],\n",
      "        [1., 1., 1.],\n",
      "        [1., 1., 1.],\n",
      "        [1., 1., 1.]], dtype=torch.float64)\n",
      "tensor([[0.1704, 0.3928, 0.3178],\n",
      "        [0.4650, 0.9630, 0.0467],\n",
      "        [0.5747, 0.3669, 0.9907],\n",
      "        [0.2930, 0.0316, 0.1653],\n",
      "        [0.2916, 0.4923, 0.2285]], dtype=torch.float64)\n"
     ]
    }
   ],
   "source": [
    "# 修改原Tensor为全1的Tensor\n",
    "\n",
    "x = x.new_ones(5,3,dtype=torch.float64)\n",
    "\n",
    "print(x)\n",
    "\n",
    "# 修改数据类型\n",
    "x = torch.rand_like(x,dtype=torch.float64)\n",
    "\n",
    "print(x)"
   ]
  },
  {
   "cell_type": "code",
   "execution_count": 10,
   "id": "ed3b9ab1-3365-4c10-9bb6-da60149c80ef",
   "metadata": {},
   "outputs": [
    {
     "name": "stdout",
     "output_type": "stream",
     "text": [
      "torch.Size([5, 3])\n",
      "torch.Size([5, 3])\n"
     ]
    }
   ],
   "source": [
    "# 获取Tensor的形状\n",
    "print(x.size())\n",
    "print(x.shape)\n",
    "# 注意：返回的torch.Size其实就是⼀一个tuple, ⽀支持所有tuple的操作。"
   ]
  }
 ],
 "metadata": {
  "kernelspec": {
   "display_name": "Python 3",
   "language": "python",
   "name": "python3"
  },
  "language_info": {
   "codemirror_mode": {
    "name": "ipython",
    "version": 3
   },
   "file_extension": ".py",
   "mimetype": "text/x-python",
   "name": "python",
   "nbconvert_exporter": "python",
   "pygments_lexer": "ipython3",
   "version": "3.6.13"
  }
 },
 "nbformat": 4,
 "nbformat_minor": 5
}
