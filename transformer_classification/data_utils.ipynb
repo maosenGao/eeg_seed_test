{
 "cells": [
  {
   "cell_type": "code",
   "execution_count": null,
   "id": "bd0af231-2003-4989-be87-e143a2fd1dc0",
   "metadata": {},
   "outputs": [],
   "source": [
    "from typing import Iterable, Union, List\n",
    "import torch\n",
    "from torch.utils.data import TensorDataset\n",
    "import numpy as np\n",
    "import os\n",
    "from sklearn import preprocessing\n",
    "import random    "
   ]
  },
  {
   "cell_type": "code",
   "execution_count": null,
   "id": "f635cf1a-9520-4bfe-bb12-4795de5958a2",
   "metadata": {},
   "outputs": [],
   "source": [
    "def create_examples(args,\n",
    "                    mode: str = 'train') -> Iterable[Union[List, dict]]:\n",
    "    dataset_dir = args.dataset_dir\n",
    "    features, labels, cumulative = load_mat(dataset_dir)\n",
    "    \n",
    "    labels += 1  # deal with offset (original labels: -1, 0, 1 => new labels: 0, 1, 2)\n",
    "\n",
    "    train_arr, train_label, test_arr, test_label = train_test_split(\n",
    "        features, labels, cumulative, args.train_percentage, args.sample_per_input, args.normalization)\n",
    "    \n",
    "    train_tensor = torch.tensor(train_arr, dtype=torch.float)\n",
    "    train_label = torch.tensor(train_label, dtype=torch.int64).squeeze_(1)\n",
    "    test_tensor = torch.tensor(test_arr, dtype=torch.float)\n",
    "    test_label = torch.tensor(test_label, dtype=torch.int64).squeeze_(1)\n",
    "    \n",
    "    train_dataset = TensorDataset(train_tensor, train_label)\n",
    "    test_dataset = TensorDataset(test_tensor, test_label)\n",
    "\n",
    "    return train_dataset, test_dataset"
   ]
  },
  {
   "cell_type": "code",
   "execution_count": null,
   "id": "e475fdf9-507a-4c64-9d99-36fd23243400",
   "metadata": {},
   "outputs": [],
   "source": [
    "def set_seeds(seed=0):\n",
    "    torch.manual_seed(seed)\n",
    "    torch.cuda.manual_seed_all(seed)"
   ]
  },
  {
   "cell_type": "code",
   "execution_count": null,
   "id": "4c1a6bf8-4179-433c-9a93-74d8c1612244",
   "metadata": {},
   "outputs": [],
   "source": [
    "def load_mat(dirname):\n",
    "    feature_arr = np.load(os.path.join(dirname, \"feature.npy\"))\n",
    "    label_arr = np.load(os.path.join(dirname, \"label.npy\"))\n",
    "    cumulative_arr = np.load(os.path.join(dirname, \"cumulative.npy\"))\n",
    "    return feature_arr, label_arr, cumulative_arr\n",
    "  "
   ]
  },
  {
   "cell_type": "code",
   "execution_count": null,
   "id": "e78b0fef-6d7e-4501-a5a2-241202b2c491",
   "metadata": {},
   "outputs": [],
   "source": [
    "def train_test_split(feature_arr, label_arr, cumulative_arr, train_percentage, group_by, normalization=False):\n",
    "    seq_len = feature_arr.shape[1]\n",
    "    train_feature = None\n",
    "    train_label = None\n",
    "    test_feature = None\n",
    "    test_label = None\n",
    "    for person_index in range(15):\n",
    "        for day_index in range(3):\n",
    "            train_trial_num = int(train_percentage * 15) \n",
    "            for trial_index in range(15):\n",
    "                start_index = cumulative_arr[(person_index * 3 + day_index) * 15 + trial_index]\n",
    "                end_index = cumulative_arr[(person_index * 3 + day_index) * 15 + trial_index + 1]\n",
    "                remainder = (end_index - start_index) % group_by\n",
    "                end_index -=  remainder  # truncate\n",
    "                num_of_groups = (end_index - start_index) // group_by\n",
    "                temp_arr = feature_arr[start_index: end_index].reshape(num_of_groups, group_by, seq_len)\n",
    "                temp_label = label_arr[start_index: end_index: group_by]\n",
    "                if trial_index < train_trial_num:\n",
    "                    if train_feature is None:\n",
    "                        train_feature = temp_arr\n",
    "                        train_label = temp_label\n",
    "                    else:\n",
    "                        train_feature = np.vstack((train_feature, temp_arr))\n",
    "                        train_label = np.vstack((train_label, temp_label))\n",
    "                else:\n",
    "                    if test_feature is None:\n",
    "                        test_feature = temp_arr\n",
    "                        test_label = temp_label\n",
    "                    else:\n",
    "                        test_feature = np.vstack((test_feature, temp_arr))\n",
    "                        test_label = np.vstack((test_label, temp_label))\n",
    "    vector_len = train_feature.shape[-1]\n",
    "    train_feature_2d = train_feature.reshape(-1, vector_len)\n",
    "    test_feature_2d = test_feature.reshape(-1, vector_len)\n",
    "    stdScale = preprocessing.StandardScaler().fit(train_feature_2d)\n",
    "    train_feature_2d = stdScale.transform(train_feature_2d)\n",
    "    test_feature_2d = stdScale.transform(test_feature_2d)\n",
    "    train_feature = train_feature_2d.reshape((-1, group_by, vector_len))\n",
    "    test_feature = test_feature_2d.reshape(-1, group_by, vector_len)\n",
    "    return train_feature, train_label, test_feature, test_label"
   ]
  }
 ],
 "metadata": {
  "kernelspec": {
   "display_name": "Python 3",
   "language": "python",
   "name": "python3"
  },
  "language_info": {
   "codemirror_mode": {
    "name": "ipython",
    "version": 3
   },
   "file_extension": ".py",
   "mimetype": "text/x-python",
   "name": "python",
   "nbconvert_exporter": "python",
   "pygments_lexer": "ipython3",
   "version": "3.6.13"
  }
 },
 "nbformat": 4,
 "nbformat_minor": 5
}
