{
 "cells": [
  {
   "cell_type": "code",
   "execution_count": 1,
   "id": "e284be04-2db5-468d-9725-84a7b7dc6b0d",
   "metadata": {},
   "outputs": [
    {
     "name": "stdout",
     "output_type": "stream",
     "text": [
      "/home/seugaoms/anaconda3/envs/python36/bin/python\n"
     ]
    }
   ],
   "source": [
    "import argparse\n",
    "from torch.utils.data import DataLoader\n",
    "\n",
    "from data_utils import create_examples, set_seeds\n",
    "from trainer import Trainer\n",
    "import os"
   ]
  },
  {
   "cell_type": "code",
   "execution_count": 2,
   "id": "ba457312-4ffa-4c66-a3c4-ad771f2f2050",
   "metadata": {},
   "outputs": [],
   "source": [
    "os.environ['CUDA_VISIBLE_DEVICES'] = '1'"
   ]
  },
  {
   "cell_type": "code",
   "execution_count": 3,
   "id": "f3be897b-b887-42cc-bc42-086dd7b408bd",
   "metadata": {},
   "outputs": [],
   "source": [
    "def main(args):\n",
    "    print(args)\n",
    "    set_seeds()\n",
    "    # Build DataLoader\n",
    "    train_dataset, test_dataset = create_examples(args)\n",
    "    train_loader = DataLoader(train_dataset, batch_size=args.batch_size, shuffle=True)\n",
    "    test_loader = DataLoader(test_dataset, batch_size=args.batch_size, shuffle=True)\n",
    "    # Build Trainer\n",
    "    trainer = Trainer(args, train_loader, test_loader)\n",
    "    # Warm up\n",
    "    for epoch in range(1, args.pretrain + 1):\n",
    "        trainer.pretrain(epoch)\n",
    "        \n",
    "    # Train & Validate\n",
    "    for epoch in range(1, args.epochs+1):\n",
    "        trainer.train(epoch)\n",
    "        trainer.validate(epoch)\n",
    "        trainer.save(epoch, args.output_model_prefix)"
   ]
  },
  {
   "cell_type": "code",
   "execution_count": 4,
   "id": "89106277-3895-4ce1-ab48-fda54fe4608a",
   "metadata": {},
   "outputs": [
    {
     "name": "stderr",
     "output_type": "stream",
     "text": [
      "usage: ipykernel_launcher.py [-h] [--dataset_dir DATASET_DIR]\n",
      "                             [--train_percentage TRAIN_PERCENTAGE]\n",
      "                             [--normalization NORMALIZATION]\n",
      "                             [--sample_per_input SAMPLE_PER_INPUT]\n",
      "                             [--sample_len SAMPLE_LEN]\n",
      "                             [--corrupt_probability CORRUPT_PROBABILITY]\n",
      "                             [--generation_weight GENERATION_WEIGHT]\n",
      "                             [--output_model_prefix OUTPUT_MODEL_PREFIX]\n",
      "                             [--batch_size BATCH_SIZE] [--pretrain PRETRAIN]\n",
      "                             [--epochs EPOCHS] [--lr LR] [--no_cuda]\n",
      "                             [--n_layers N_LAYERS]\n",
      "                             [--n_attn_heads N_ATTN_HEADS] [--dropout DROPOUT]\n",
      "                             [--ffn_hidden FFN_HIDDEN]\n",
      "ipykernel_launcher.py: error: unrecognized arguments: -f /home/seugaoms/.local/share/jupyter/runtime/kernel-477565fa-7a33-479b-8d3c-3e65b8dfceb2.json\n"
     ]
    },
    {
     "ename": "SystemExit",
     "evalue": "2",
     "output_type": "error",
     "traceback": [
      "An exception has occurred, use %tb to see the full traceback.\n",
      "\u001b[0;31mSystemExit\u001b[0m\u001b[0;31m:\u001b[0m 2\n"
     ]
    },
    {
     "name": "stderr",
     "output_type": "stream",
     "text": [
      "/home/seugaoms/anaconda3/envs/python36/lib/python3.6/site-packages/IPython/core/interactiveshell.py:2886: UserWarning: To exit: use 'exit', 'quit', or Ctrl-D.\n",
      "  warn(\"To exit: use 'exit', 'quit', or Ctrl-D.\", stacklevel=1)\n"
     ]
    }
   ],
   "source": [
    "if __name__ == '__main__':\n",
    "    parser = argparse.ArgumentParser()\n",
    "    parser.add_argument('--dataset_dir',  type=str, \n",
    "                        default='/home/PublicDir/temp_user/eeg_test/dataset/SEED/ExtractedFeatures/de_LDS',\n",
    "                        help='path to the folder that contains feature.npy, label.npy, cumulative.npy')\n",
    "    parser.add_argument('--train_percentage',  type=int, \n",
    "                        default=0.6,\n",
    "                        help='portion of training samples for each subject')\n",
    "    parser.add_argument('--normalization',     type=bool,  \n",
    "                        default=True, \n",
    "                        help='do normalization for train/test dataset by the rule learned from train dataset')\n",
    "    parser.add_argument('--sample_per_input', type=int,\n",
    "                        default=5, \n",
    "                        help='number of samples for each sample, or length of the sentence')\n",
    "    parser.add_argument('--sample_len', type=int,\n",
    "                        default=310, \n",
    "                        help='length of each sample')\n",
    "    parser.add_argument('--corrupt_probability', type=float,\n",
    "                        default=0.05,\n",
    "                        help='the probability that a cell is corrupted in the generation task')\n",
    "    parser.add_argument('--generation_weight', type=float,\n",
    "                        default=0.1,\n",
    "                        help='a constant that determines the importance of generation task in the multi-task training. total cost = generation_cost * generation_weight + classification_cost * (1 - generation_weight)')\n",
    "    parser.add_argument('--output_model_prefix', type=str,\n",
    "                        default='model_transformer',  \n",
    "                        help='output model name prefix')\n",
    "    # Input parameters\n",
    "    parser.add_argument('--batch_size',     default=32,   type=int,   help='batch size')\n",
    "    # Train parameters\n",
    "    parser.add_argument('--pretrain',         default=0,   type=int,   help='pretrain epochs, generation task only')\n",
    "    parser.add_argument('--epochs',         default=50,   type=int,   help='the number of epochs')\n",
    "    parser.add_argument('--lr',             default=1e-6, type=float, help='learning rate')\n",
    "    parser.add_argument('--no_cuda',        action='store_true')\n",
    "    # Model parameters\n",
    "    parser.add_argument('--n_layers',       default=3,    type=int,   help='the number of heads in the multi-head attention network')\n",
    "    parser.add_argument('--n_attn_heads',   default=8,    type=int,   help='the number of multi-head attention heads')\n",
    "    parser.add_argument('--dropout',        default=0.1,  type=float, help='the residual dropout value')\n",
    "    parser.add_argument('--ffn_hidden',     default=512, type=int,   help='the dimension of the feedforward network')\n",
    "    args = parser.parse_args()\n",
    "    \n",
    "    main(args)"
   ]
  }
 ],
 "metadata": {
  "kernelspec": {
   "display_name": "Python 3",
   "language": "python",
   "name": "python3"
  },
  "language_info": {
   "codemirror_mode": {
    "name": "ipython",
    "version": 3
   },
   "file_extension": ".py",
   "mimetype": "text/x-python",
   "name": "python",
   "nbconvert_exporter": "python",
   "pygments_lexer": "ipython3",
   "version": "3.6.13"
  }
 },
 "nbformat": 4,
 "nbformat_minor": 5
}
