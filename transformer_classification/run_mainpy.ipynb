{
 "cells": [
  {
   "cell_type": "code",
   "execution_count": 1,
   "id": "ef91b81a-f275-4982-849f-6e477ffe6a5b",
   "metadata": {},
   "outputs": [
    {
     "name": "stdout",
     "output_type": "stream",
     "text": [
      "/home/seugaoms/anaconda3/envs/python36/bin/python3\n",
      "Namespace(batch_size=32, corrupt_probability=0.05, dataset_dir='/home/seugaoms/Documents/seed/SEEDdataset/ExtractedFeatures/de_LDS', dropout=0.1, epochs=50, ffn_hidden=512, generation_weight=0.1, lr=1e-06, n_attn_heads=8, n_layers=3, no_cuda=False, normalization=True, output_model_prefix='model_transformer', pretrain=0, sample_len=310, sample_per_input=5, train_percentage=0.6)\n",
      "/home/seugaoms/anaconda3/envs/python36/lib/python3.6/site-packages/torch/cuda/__init__.py:52: UserWarning: CUDA initialization: The NVIDIA driver on your system is too old (found version 9010). Please update your GPU driver by downloading and installing a new version from the URL: http://www.nvidia.com/Download/index.aspx Alternatively, go to: https://pytorch.org to install a PyTorch version that has been compiled with your version of the CUDA driver. (Triggered internally at  /opt/conda/conda-bld/pytorch_1603729035996/work/c10/cuda/CUDAFunctions.cpp:100.)\n",
      "  return torch._C._cuda_getDeviceCount() > 0\n",
      "Traceback (most recent call last):\n",
      "  File \"main.py\", line 70, in <module>\n",
      "    main(args)\n",
      "  File \"main.py\", line 26, in main\n",
      "    trainer.train(epoch)\n",
      "  File \"/home/seugaoms/Documents/seed/eeg_seed_test/transformer_classification/trainer.py\", line 60, in train\n",
      "    corrupted_inputs = self.corruption(inputs_copy)\n",
      "  File \"/home/seugaoms/anaconda3/envs/python36/lib/python3.6/site-packages/torch/nn/modules/module.py\", line 727, in _call_impl\n",
      "    result = self.forward(*input, **kwargs)\n",
      "  File \"/home/seugaoms/Documents/seed/eeg_seed_test/transformer_classification/model.py\", line 192, in forward\n",
      "    bitmask = torch.cuda.FloatTensor(feature.shape).uniform_() > self.corrupt_p\n",
      "  File \"/home/seugaoms/anaconda3/envs/python36/lib/python3.6/site-packages/torch/cuda/__init__.py\", line 172, in _lazy_init\n",
      "    torch._C._cuda_init()\n",
      "RuntimeError: The NVIDIA driver on your system is too old (found version 9010). Please update your GPU driver by downloading and installing a new version from the URL: http://www.nvidia.com/Download/index.aspx Alternatively, go to: https://pytorch.org to install a PyTorch version that has been compiled with your version of the CUDA driver.\n"
     ]
    }
   ],
   "source": [
    "!python3 main.py"
   ]
  },
  {
   "cell_type": "code",
   "execution_count": null,
   "id": "d0d0cd31-bda9-4d7c-a8a9-56f5b48dbd68",
   "metadata": {},
   "outputs": [],
   "source": [
    "!sudo apt-get purge nvidia* -seugaoms"
   ]
  },
  {
   "cell_type": "code",
   "execution_count": null,
   "id": "bea38854-726e-4c83-beda-12c71b7790e6",
   "metadata": {},
   "outputs": [],
   "source": []
  }
 ],
 "metadata": {
  "kernelspec": {
   "display_name": "Python 3",
   "language": "python",
   "name": "python3"
  },
  "language_info": {
   "codemirror_mode": {
    "name": "ipython",
    "version": 3
   },
   "file_extension": ".py",
   "mimetype": "text/x-python",
   "name": "python",
   "nbconvert_exporter": "python",
   "pygments_lexer": "ipython3",
   "version": "3.6.13"
  }
 },
 "nbformat": 4,
 "nbformat_minor": 5
}
