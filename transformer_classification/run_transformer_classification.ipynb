{
 "cells": [
  {
   "cell_type": "code",
   "execution_count": 1,
   "id": "c7c79ddc-9a91-4f20-bf37-9aa003509ee1",
   "metadata": {},
   "outputs": [
    {
     "name": "stdout",
     "output_type": "stream",
     "text": [
      "/home/seugaoms/anaconda3/envs/python36/bin/python\n"
     ]
    }
   ],
   "source": [
    "!python data_utils.py"
   ]
  },
  {
   "cell_type": "code",
   "execution_count": 2,
   "id": "08e5feef-f834-47a1-9ca3-6ef9f960fecc",
   "metadata": {},
   "outputs": [
    {
     "name": "stdout",
     "output_type": "stream",
     "text": [
      "/home/seugaoms/anaconda3/envs/python36/bin/python\n"
     ]
    }
   ],
   "source": [
    "import sys\n",
    "pythonpath = sys.executable\n",
    "print(pythonpath)"
   ]
  },
  {
   "cell_type": "code",
   "execution_count": 3,
   "id": "5b86c0c2-47a0-43d3-9bab-e02000ac6986",
   "metadata": {},
   "outputs": [
    {
     "name": "stdout",
     "output_type": "stream",
     "text": [
      "Requirement already satisfied: torch in /home/seugaoms/anaconda3/envs/python36/lib/python3.6/site-packages (1.7.0)\n",
      "Requirement already satisfied: future in /home/seugaoms/anaconda3/envs/python36/lib/python3.6/site-packages (from torch) (0.18.2)\n",
      "Requirement already satisfied: typing_extensions in /home/seugaoms/anaconda3/envs/python36/lib/python3.6/site-packages (from torch) (3.7.4.3)\n",
      "Requirement already satisfied: dataclasses in /home/seugaoms/anaconda3/envs/python36/lib/python3.6/site-packages (from torch) (0.8)\n",
      "Requirement already satisfied: numpy in /home/seugaoms/anaconda3/envs/python36/lib/python3.6/site-packages (from torch) (1.19.5)\n"
     ]
    }
   ],
   "source": [
    "!pip install torch"
   ]
  }
 ],
 "metadata": {
  "kernelspec": {
   "display_name": "Python 3",
   "language": "python",
   "name": "python3"
  },
  "language_info": {
   "codemirror_mode": {
    "name": "ipython",
    "version": 3
   },
   "file_extension": ".py",
   "mimetype": "text/x-python",
   "name": "python",
   "nbconvert_exporter": "python",
   "pygments_lexer": "ipython3",
   "version": "3.6.13"
  }
 },
 "nbformat": 4,
 "nbformat_minor": 5
}
