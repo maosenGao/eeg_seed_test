{
 "cells": [
  {
   "cell_type": "code",
   "execution_count": 1,
   "id": "2a52ac9a-2d92-4ef4-b7c2-8de95528e2ff",
   "metadata": {},
   "outputs": [],
   "source": [
    "# # 运行一下命令缓存\n",
    "# !git config --global credential.helper wincred\n",
    "# # 清除掉缓存在git中的用户名和密码\n",
    "# !git credential-manager uninstall"
   ]
  },
  {
   "cell_type": "code",
   "execution_count": 3,
   "id": "475e63d3-d3e7-453e-b08a-bae6847b1753",
   "metadata": {},
   "outputs": [
    {
     "name": "stdout",
     "output_type": "stream",
     "text": [
      "Reinitialized existing Git repository in /home/seugaoms/Documents/BMCI_msG/.git/\n"
     ]
    }
   ],
   "source": [
    "!git init"
   ]
  },
  {
   "cell_type": "code",
   "execution_count": 5,
   "id": "4245cb38-61e8-4171-8abd-14c6ff247b30",
   "metadata": {},
   "outputs": [],
   "source": [
    "# 更新"
   ]
  },
  {
   "cell_type": "code",
   "execution_count": 6,
   "id": "a1bfa173-8e9f-4556-8c15-01c9cf9f3755",
   "metadata": {},
   "outputs": [
    {
     "name": "stdout",
     "output_type": "stream",
     "text": [
      "On branch main\n",
      "Your branch is up to date with 'origin/main'.\n",
      "\n",
      "Changes not staged for commit:\n",
      "  (use \"git add <file>...\" to update what will be committed)\n",
      "  (use \"git checkout -- <file>...\" to discard changes in working directory)\n",
      "\n",
      "\t\u001b[31mmodified:   [daily]BMCI_msG_github_push.ipynb\u001b[m\n",
      "\n",
      "no changes added to commit (use \"git add\" and/or \"git commit -a\")\n"
     ]
    }
   ],
   "source": [
    "!git status"
   ]
  },
  {
   "cell_type": "code",
   "execution_count": 7,
   "id": "bc50df49-e8ac-4a69-868b-34dcca2e2403",
   "metadata": {},
   "outputs": [],
   "source": [
    "!git add ."
   ]
  },
  {
   "cell_type": "code",
   "execution_count": 8,
   "id": "07732cca-662f-4593-a5e7-526b1134705d",
   "metadata": {},
   "outputs": [
    {
     "name": "stdout",
     "output_type": "stream",
     "text": [
      "[main 370ccd6] 20211010\n",
      " 1 file changed, 11 insertions(+), 25 deletions(-)\n"
     ]
    }
   ],
   "source": [
    "# 提交到本地库并备注，此时变更仍在本地\n",
    "!git commit -am 'bcmi'"
   ]
  },
  {
   "cell_type": "code",
   "execution_count": 9,
   "id": "04101517-899b-4474-a7be-84e10500f90e",
   "metadata": {},
   "outputs": [
    {
     "name": "stdout",
     "output_type": "stream",
     "text": [
      "Counting objects: 3, done.\n",
      "Delta compression using up to 48 threads.\n",
      "Compressing objects: 100% (3/3), done.\n",
      "Writing objects: 100% (3/3), 495 bytes | 495.00 KiB/s, done.\n",
      "Total 3 (delta 2), reused 0 (delta 0)\n",
      "remote: Resolving deltas: 100% (2/2), completed with 2 local objects.\u001b[K\n",
      "To github.com:maosenGao/BMCI_msG.git\n",
      "   9f2daab..370ccd6  main -> main\n"
     ]
    }
   ],
   "source": [
    "!git push origin"
   ]
  }
 ],
 "metadata": {
  "kernelspec": {
   "display_name": "Python 3",
   "language": "python",
   "name": "python3"
  },
  "language_info": {
   "codemirror_mode": {
    "name": "ipython",
    "version": 3
   },
   "file_extension": ".py",
   "mimetype": "text/x-python",
   "name": "python",
   "nbconvert_exporter": "python",
   "pygments_lexer": "ipython3",
   "version": "3.6.13"
  }
 },
 "nbformat": 4,
 "nbformat_minor": 5
}
